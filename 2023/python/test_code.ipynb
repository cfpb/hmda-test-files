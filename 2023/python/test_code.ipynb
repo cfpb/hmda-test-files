{
 "cells": [
  {
   "cell_type": "code",
   "execution_count": 8,
   "metadata": {},
   "outputs": [],
   "source": [
    "import pandas as pd\n",
    "import json\n",
    "\n",
    "import lar_constraints\n",
    "import lar_generator\n",
    "from rules_engine import rules_engine\n",
    "from test_file_generator import test_data_creator\n",
    "import utils\n",
    "\n",
    "\n",
    "import logging\n",
    "import os\n",
    "\n",
    "\n",
    "import yaml\n",
    "\n",
    "from lar_constraints import lar_data_constraints\n",
    "\n",
    "pd.set_option('display.max_rows', 500)\n",
    "pd.set_option('display.max_columns', 500)"
   ]
  },
  {
   "cell_type": "code",
   "execution_count": 9,
   "metadata": {},
   "outputs": [
    {
     "name": "stdout",
     "output_type": "stream",
     "text": [
      "start initialization of LAR generator\n",
      "loading geo data\n",
      "start initialization of LAR generator\n",
      "LAR generator initialization complete\n",
      "initializing rules engine\n",
      "loading config files for rules engine\n",
      "opening json schema files\n",
      "schema loaded\n",
      "rules engine finished initializing\n"
     ]
    }
   ],
   "source": [
    "config_file = 'configurations/clean_file_config.yaml'\n",
    "bank_config = 'configurations/bank1_config.yaml'\n",
    "geo_config_file='configurations/geographic_data.yaml'\n",
    "filepaths_file = 'configurations/test_filepaths.yaml'\n",
    "lar_schema_file=\"../schemas/lar_schema.json\"\n",
    "ts_schema_file=\"../schemas/ts_schema.json\"\n",
    "\n",
    "#load config data\n",
    "print(\"start initialization of LAR generator\")\n",
    "with open(config_file, 'r') as f:\n",
    "\t# use safe_load instead load\n",
    "\tlar_file_config_data = yaml.safe_load(f)\n",
    "\n",
    "with open(filepaths_file, 'r') as f:\n",
    "\tfilepaths = yaml.safe_load(f)\n",
    "\n",
    "#load geographic configuration and census data\n",
    "print(\"loading geo data\")\n",
    "with open(geo_config_file, 'r') as f:\n",
    "\tgeo_config = yaml.safe_load(f)\n",
    "\n",
    "with open(bank_config, 'r') as f:\n",
    "\tbank_config_data = yaml.safe_load(f)\n",
    "\n",
    "DEBUG = False\n",
    "\n",
    "if not os.path.exists(filepaths[\"log_filepath\"]):\n",
    "\tos.makedirs(filepaths[\"log_filepath\"])\n",
    "\n",
    "logging.basicConfig(filename=filepaths[\"log_filepath\"]+filepaths['log_filename'], format='%(asctime)s %(message)s', \n",
    "\t\t\t\t\tdatefmt='%m/%d/%Y %I:%M:%S %p', filemode=filepaths['log_mode'], level=logging.INFO)\n",
    "\n",
    "geographic_data = pd.read_csv(geo_config['geographic_data_file'], delimiter='|', header=0,\n",
    "\tnames=geo_config['file_columns'], dtype=object) #instantiate Census file data as dataframe\n",
    "\n",
    "#create 11 digit Census Tract codes from 5 digit county and 6 digit tract\n",
    "geographic_data['county_fips'] = geographic_data.apply(lambda x: str(x.state_code) + str(x.county), axis=1)\n",
    "geographic_data[\"tract_fips\"] = geographic_data.apply(lambda x: str(x.county_fips) + str(x.tracts), axis=1)\n",
    "\n",
    "with open(geo_config[\"zip_code_file\"], 'r') as f:\n",
    "\tzip_codes = json.load(f)\n",
    "zip_codes.append(\"Exempt\")\n",
    "\n",
    "#convert file_generator.py to this script\n",
    "\n",
    "#instantiate lar generator to create random LAR and fixed TS data\n",
    "lar_gen = lar_generator.lar_gen(lar_schema_file=lar_schema_file, ts_schema_file=ts_schema_file)\n",
    "\n",
    "#instantiate rules engine to check conformity of synthetic data to FIG schema\n",
    "rules_engine = rules_engine(config_data=lar_file_config_data, state_codes=geo_config[\"state_codes\"], state_codes_rev=geo_config[\"state_codes_rev\"],\n",
    "\tgeographic_data=geographic_data, full_lar_file_check=False)\n",
    "\n",
    "#instantiate constraints logic to force LAR data to conform to FIG schema\n",
    "lar_constraints = lar_data_constraints(lar_file_config=lar_file_config_data, geographic_data=geographic_data)\n",
    "\n",
    "#store original row for diff comparison to see what elements are being changed\n",
    "\n",
    "ts_row = lar_gen.make_ts_row(bank_file_config=bank_config_data) #create TS row, we only need one\n",
    "ts_df = pd.DataFrame(ts_row, index=[0])\n",
    "rules_engine.load_ts_data(ts_df) #loading ts_row to rules_engine converts it to a dataframe for value checking\n",
    "lar_rows = [] #list to hold all OrderedDict LAR records before writing to file\n",
    "\n",
    "test_file_gen = test_data_creator(ts_schema_file=ts_schema_file, lar_schema_file=lar_schema_file, bank_config_data=bank_config_data,\n",
    "\t\t\t\t\t\t\t\tstate_codes=geo_config[\"state_codes\"], county_df=geographic_data[[\"county_fips\", \"small_county\"]])\n"
   ]
  },
  {
   "cell_type": "code",
   "execution_count": 10,
   "metadata": {},
   "outputs": [
    {
     "data": {
      "text/html": [
       "<pre style=\"white-space:pre;overflow-x:auto;line-height:normal;font-family:Menlo,'DejaVu Sans Mono',consolas,'Courier New',monospace\"><span style=\"color: #800000; text-decoration-color: #800000\">╭─────────────────────────────── </span><span style=\"color: #800000; text-decoration-color: #800000; font-weight: bold\">Traceback </span><span style=\"color: #bf7f7f; text-decoration-color: #bf7f7f; font-weight: bold\">(most recent call last)</span><span style=\"color: #800000; text-decoration-color: #800000\"> ────────────────────────────────╮</span>\n",
       "<span style=\"color: #800000; text-decoration-color: #800000\">│</span> in <span style=\"color: #00ff00; text-decoration-color: #00ff00\">&lt;module&gt;</span>:<span style=\"color: #0000ff; text-decoration-color: #0000ff\">1</span>                                                                                    <span style=\"color: #800000; text-decoration-color: #800000\">│</span>\n",
       "<span style=\"color: #800000; text-decoration-color: #800000\">│</span>                                                                                                  <span style=\"color: #800000; text-decoration-color: #800000\">│</span>\n",
       "<span style=\"color: #800000; text-decoration-color: #800000\">│</span> <span style=\"color: #800000; text-decoration-color: #800000\">❱ </span>1 rules_engine.split_ts_row(data_file=<span style=\"color: #808000; text-decoration-color: #808000\">\"../edits_files/Bank 0/clean_files/Bank 0_clean_1000</span>     <span style=\"color: #800000; text-decoration-color: #800000\">│</span>\n",
       "<span style=\"color: #800000; text-decoration-color: #800000\">│</span>   <span style=\"color: #7f7f7f; text-decoration-color: #7f7f7f\">2 </span>                                                                                             <span style=\"color: #800000; text-decoration-color: #800000\">│</span>\n",
       "<span style=\"color: #800000; text-decoration-color: #800000\">│</span>                                                                                                  <span style=\"color: #800000; text-decoration-color: #800000\">│</span>\n",
       "<span style=\"color: #800000; text-decoration-color: #800000\">│</span> <span style=\"color: #bfbf7f; text-decoration-color: #bfbf7f\">/Users/bringmannj/Documents/hmda-test-files/2022/python/</span><span style=\"color: #808000; text-decoration-color: #808000; font-weight: bold\">rules_engine.py</span>:<span style=\"color: #0000ff; text-decoration-color: #0000ff\">96</span> in <span style=\"color: #00ff00; text-decoration-color: #00ff00\">split_ts_row</span>       <span style=\"color: #800000; text-decoration-color: #800000\">│</span>\n",
       "<span style=\"color: #800000; text-decoration-color: #800000\">│</span>                                                                                                  <span style=\"color: #800000; text-decoration-color: #800000\">│</span>\n",
       "<span style=\"color: #800000; text-decoration-color: #800000\">│</span>   <span style=\"color: #7f7f7f; text-decoration-color: #7f7f7f\">  93 </span><span style=\"color: #bfbf7f; text-decoration-color: #bfbf7f\">│   │   </span><span style=\"color: #808000; text-decoration-color: #808000\">Separates TS and LAR portions of a file and returns each as a dataframe.</span>          <span style=\"color: #800000; text-decoration-color: #800000\">│</span>\n",
       "<span style=\"color: #800000; text-decoration-color: #800000\">│</span>   <span style=\"color: #7f7f7f; text-decoration-color: #7f7f7f\">  94 </span><span style=\"color: #bfbf7f; text-decoration-color: #bfbf7f\">│   │   </span><span style=\"color: #808000; text-decoration-color: #808000\">\"\"\"</span>                                                                               <span style=\"color: #800000; text-decoration-color: #800000\">│</span>\n",
       "<span style=\"color: #800000; text-decoration-color: #800000\">│</span>   <span style=\"color: #7f7f7f; text-decoration-color: #7f7f7f\">  95 </span><span style=\"color: #7f7f7f; text-decoration-color: #7f7f7f\">│   │   </span>                                                                                  <span style=\"color: #800000; text-decoration-color: #800000\">│</span>\n",
       "<span style=\"color: #800000; text-decoration-color: #800000\">│</span> <span style=\"color: #800000; text-decoration-color: #800000\">❱ </span>  96 <span style=\"color: #7f7f7f; text-decoration-color: #7f7f7f\">│   │   </span><span style=\"color: #0000ff; text-decoration-color: #0000ff\">with</span> <span style=\"color: #00ffff; text-decoration-color: #00ffff\">open</span>(data_file, <span style=\"color: #808000; text-decoration-color: #808000\">'r'</span>) <span style=\"color: #0000ff; text-decoration-color: #0000ff\">as</span> infile:                                              <span style=\"color: #800000; text-decoration-color: #800000\">│</span>\n",
       "<span style=\"color: #800000; text-decoration-color: #800000\">│</span>   <span style=\"color: #7f7f7f; text-decoration-color: #7f7f7f\">  97 </span><span style=\"color: #7f7f7f; text-decoration-color: #7f7f7f\">│   │   │   </span>ts_row = infile.readline().strip(<span style=\"color: #808000; text-decoration-color: #808000\">\"\\n\"</span>)                                        <span style=\"color: #800000; text-decoration-color: #800000\">│</span>\n",
       "<span style=\"color: #800000; text-decoration-color: #800000\">│</span>   <span style=\"color: #7f7f7f; text-decoration-color: #7f7f7f\">  98 </span><span style=\"color: #7f7f7f; text-decoration-color: #7f7f7f\">│   │   │   </span>ts_data = []                                                                  <span style=\"color: #800000; text-decoration-color: #800000\">│</span>\n",
       "<span style=\"color: #800000; text-decoration-color: #800000\">│</span>   <span style=\"color: #7f7f7f; text-decoration-color: #7f7f7f\">  99 </span><span style=\"color: #7f7f7f; text-decoration-color: #7f7f7f\">│   │   │   </span>ts_data.append(ts_row.split(<span style=\"color: #808000; text-decoration-color: #808000\">\"|\"</span>))                                             <span style=\"color: #800000; text-decoration-color: #800000\">│</span>\n",
       "<span style=\"color: #800000; text-decoration-color: #800000\">╰──────────────────────────────────────────────────────────────────────────────────────────────────╯</span>\n",
       "<span style=\"color: #ff0000; text-decoration-color: #ff0000; font-weight: bold\">FileNotFoundError: </span><span style=\"font-weight: bold\">[</span>Errno <span style=\"color: #008080; text-decoration-color: #008080; font-weight: bold\">2</span><span style=\"font-weight: bold\">]</span> No such file or directory: <span style=\"color: #008000; text-decoration-color: #008000\">'../edits_files/Bank 0/clean_files/Bank </span>\n",
       "<span style=\"color: #008000; text-decoration-color: #008000\">0_clean_1000000_rows.txt'</span>\n",
       "</pre>\n"
      ],
      "text/plain": [
       "\u001b[31m╭─\u001b[0m\u001b[31m──────────────────────────────\u001b[0m\u001b[31m \u001b[0m\u001b[1;31mTraceback \u001b[0m\u001b[1;2;31m(most recent call last)\u001b[0m\u001b[31m \u001b[0m\u001b[31m───────────────────────────────\u001b[0m\u001b[31m─╮\u001b[0m\n",
       "\u001b[31m│\u001b[0m in \u001b[92m<module>\u001b[0m:\u001b[94m1\u001b[0m                                                                                    \u001b[31m│\u001b[0m\n",
       "\u001b[31m│\u001b[0m                                                                                                  \u001b[31m│\u001b[0m\n",
       "\u001b[31m│\u001b[0m \u001b[31m❱ \u001b[0m1 rules_engine.split_ts_row(data_file=\u001b[33m\"\u001b[0m\u001b[33m../edits_files/Bank 0/clean_files/Bank 0_clean_1000\u001b[0m     \u001b[31m│\u001b[0m\n",
       "\u001b[31m│\u001b[0m   \u001b[2m2 \u001b[0m                                                                                             \u001b[31m│\u001b[0m\n",
       "\u001b[31m│\u001b[0m                                                                                                  \u001b[31m│\u001b[0m\n",
       "\u001b[31m│\u001b[0m \u001b[2;33m/Users/bringmannj/Documents/hmda-test-files/2022/python/\u001b[0m\u001b[1;33mrules_engine.py\u001b[0m:\u001b[94m96\u001b[0m in \u001b[92msplit_ts_row\u001b[0m       \u001b[31m│\u001b[0m\n",
       "\u001b[31m│\u001b[0m                                                                                                  \u001b[31m│\u001b[0m\n",
       "\u001b[31m│\u001b[0m   \u001b[2m  93 \u001b[0m\u001b[2;33m│   │   \u001b[0m\u001b[33mSeparates TS and LAR portions of a file and returns each as a dataframe.\u001b[0m          \u001b[31m│\u001b[0m\n",
       "\u001b[31m│\u001b[0m   \u001b[2m  94 \u001b[0m\u001b[2;33m│   │   \u001b[0m\u001b[33m\"\"\"\u001b[0m                                                                               \u001b[31m│\u001b[0m\n",
       "\u001b[31m│\u001b[0m   \u001b[2m  95 \u001b[0m\u001b[2m│   │   \u001b[0m                                                                                  \u001b[31m│\u001b[0m\n",
       "\u001b[31m│\u001b[0m \u001b[31m❱ \u001b[0m  96 \u001b[2m│   │   \u001b[0m\u001b[94mwith\u001b[0m \u001b[96mopen\u001b[0m(data_file, \u001b[33m'\u001b[0m\u001b[33mr\u001b[0m\u001b[33m'\u001b[0m) \u001b[94mas\u001b[0m infile:                                              \u001b[31m│\u001b[0m\n",
       "\u001b[31m│\u001b[0m   \u001b[2m  97 \u001b[0m\u001b[2m│   │   │   \u001b[0mts_row = infile.readline().strip(\u001b[33m\"\u001b[0m\u001b[33m\\n\u001b[0m\u001b[33m\"\u001b[0m)                                        \u001b[31m│\u001b[0m\n",
       "\u001b[31m│\u001b[0m   \u001b[2m  98 \u001b[0m\u001b[2m│   │   │   \u001b[0mts_data = []                                                                  \u001b[31m│\u001b[0m\n",
       "\u001b[31m│\u001b[0m   \u001b[2m  99 \u001b[0m\u001b[2m│   │   │   \u001b[0mts_data.append(ts_row.split(\u001b[33m\"\u001b[0m\u001b[33m|\u001b[0m\u001b[33m\"\u001b[0m))                                             \u001b[31m│\u001b[0m\n",
       "\u001b[31m╰──────────────────────────────────────────────────────────────────────────────────────────────────╯\u001b[0m\n",
       "\u001b[1;91mFileNotFoundError: \u001b[0m\u001b[1m[\u001b[0mErrno \u001b[1;36m2\u001b[0m\u001b[1m]\u001b[0m No such file or directory: \u001b[32m'../edits_files/Bank 0/clean_files/Bank \u001b[0m\n",
       "\u001b[32m0_clean_1000000_rows.txt'\u001b[0m\n"
      ]
     },
     "metadata": {},
     "output_type": "display_data"
    }
   ],
   "source": [
    "rules_engine.split_ts_row(data_file=\"../edits_files/Bank 0/clean_files/Bank 0_clean_1000000_rows.txt\")"
   ]
  },
  {
   "cell_type": "code",
   "execution_count": 5,
   "metadata": {},
   "outputs": [
    {
     "data": {
      "text/html": [
       "<pre style=\"white-space:pre;overflow-x:auto;line-height:normal;font-family:Menlo,'DejaVu Sans Mono',consolas,'Courier New',monospace\"><span style=\"color: #800000; text-decoration-color: #800000\">╭─────────────────────────────── </span><span style=\"color: #800000; text-decoration-color: #800000; font-weight: bold\">Traceback </span><span style=\"color: #bf7f7f; text-decoration-color: #bf7f7f; font-weight: bold\">(most recent call last)</span><span style=\"color: #800000; text-decoration-color: #800000\"> ────────────────────────────────╮</span>\n",
       "<span style=\"color: #800000; text-decoration-color: #800000\">│</span> in <span style=\"color: #00ff00; text-decoration-color: #00ff00\">&lt;module&gt;</span>:<span style=\"color: #0000ff; text-decoration-color: #0000ff\">1</span>                                                                                    <span style=\"color: #800000; text-decoration-color: #800000\">│</span>\n",
       "<span style=\"color: #800000; text-decoration-color: #800000\">│</span>                                                                                                  <span style=\"color: #800000; text-decoration-color: #800000\">│</span>\n",
       "<span style=\"color: #800000; text-decoration-color: #800000\">│</span> <span style=\"color: #800000; text-decoration-color: #800000\">❱ </span>1 res_df = rules_engine.create_edit_report()                                                   <span style=\"color: #800000; text-decoration-color: #800000\">│</span>\n",
       "<span style=\"color: #800000; text-decoration-color: #800000\">│</span>   <span style=\"color: #7f7f7f; text-decoration-color: #7f7f7f\">2 </span>res_df.head()                                                                                <span style=\"color: #800000; text-decoration-color: #800000\">│</span>\n",
       "<span style=\"color: #800000; text-decoration-color: #800000\">│</span>   <span style=\"color: #7f7f7f; text-decoration-color: #7f7f7f\">3 </span>                                                                                             <span style=\"color: #800000; text-decoration-color: #800000\">│</span>\n",
       "<span style=\"color: #800000; text-decoration-color: #800000\">│</span>                                                                                                  <span style=\"color: #800000; text-decoration-color: #800000\">│</span>\n",
       "<span style=\"color: #800000; text-decoration-color: #800000\">│</span> <span style=\"color: #bfbf7f; text-decoration-color: #bfbf7f\">/Users/bringmannj/Documents/hmda-test-files/2022/python/</span><span style=\"color: #808000; text-decoration-color: #808000; font-weight: bold\">rules_engine.py</span>:<span style=\"color: #0000ff; text-decoration-color: #0000ff\">125</span> in                   <span style=\"color: #800000; text-decoration-color: #800000\">│</span>\n",
       "<span style=\"color: #800000; text-decoration-color: #800000\">│</span> <span style=\"color: #00ff00; text-decoration-color: #00ff00\">create_edit_report</span>                                                                               <span style=\"color: #800000; text-decoration-color: #800000\">│</span>\n",
       "<span style=\"color: #800000; text-decoration-color: #800000\">│</span>                                                                                                  <span style=\"color: #800000; text-decoration-color: #800000\">│</span>\n",
       "<span style=\"color: #800000; text-decoration-color: #800000\">│</span>   <span style=\"color: #7f7f7f; text-decoration-color: #7f7f7f\"> 122 </span><span style=\"color: #7f7f7f; text-decoration-color: #7f7f7f\">│   │   </span>rules = [rule <span style=\"color: #0000ff; text-decoration-color: #0000ff\">for</span> rule <span style=\"color: #ff00ff; text-decoration-color: #ff00ff\">in</span> rules <span style=\"color: #0000ff; text-decoration-color: #0000ff\">if</span> rule[:<span style=\"color: #0000ff; text-decoration-color: #0000ff\">1</span>] <span style=\"color: #ff00ff; text-decoration-color: #ff00ff\">in</span> rules_list]                        <span style=\"color: #800000; text-decoration-color: #800000\">│</span>\n",
       "<span style=\"color: #800000; text-decoration-color: #800000\">│</span>   <span style=\"color: #7f7f7f; text-decoration-color: #7f7f7f\"> 123 </span><span style=\"color: #7f7f7f; text-decoration-color: #7f7f7f\">│   │   </span><span style=\"color: #0000ff; text-decoration-color: #0000ff\">for</span> rule <span style=\"color: #ff00ff; text-decoration-color: #ff00ff\">in</span> rules:                                                                <span style=\"color: #800000; text-decoration-color: #800000\">│</span>\n",
       "<span style=\"color: #800000; text-decoration-color: #800000\">│</span>   <span style=\"color: #7f7f7f; text-decoration-color: #7f7f7f\"> 124 </span><span style=\"color: #7f7f7f; text-decoration-color: #7f7f7f\">│   │   │   </span><span style=\"color: #0000ff; text-decoration-color: #0000ff\">if</span> rule[:<span style=\"color: #0000ff; text-decoration-color: #0000ff\">1</span>] <span style=\"color: #ff00ff; text-decoration-color: #ff00ff\">in</span> rules_list <span style=\"color: #ff00ff; text-decoration-color: #ff00ff\">and</span> rule[<span style=\"color: #0000ff; text-decoration-color: #0000ff\">1</span>:<span style=\"color: #0000ff; text-decoration-color: #0000ff\">4</span>].isdigit()==<span style=\"color: #0000ff; text-decoration-color: #0000ff\">True</span>:                      <span style=\"color: #800000; text-decoration-color: #800000\">│</span>\n",
       "<span style=\"color: #800000; text-decoration-color: #800000\">│</span> <span style=\"color: #800000; text-decoration-color: #800000\">❱ </span> 125 <span style=\"color: #7f7f7f; text-decoration-color: #7f7f7f\">│   │   │   │   </span><span style=\"color: #00ffff; text-decoration-color: #00ffff\">getattr</span>(<span style=\"color: #00ffff; text-decoration-color: #00ffff\">self</span>, rule)()                                                     <span style=\"color: #800000; text-decoration-color: #800000\">│</span>\n",
       "<span style=\"color: #800000; text-decoration-color: #800000\">│</span>   <span style=\"color: #7f7f7f; text-decoration-color: #7f7f7f\"> 126 </span><span style=\"color: #7f7f7f; text-decoration-color: #7f7f7f\">│   │   </span>res_df = pd.DataFrame(<span style=\"color: #00ffff; text-decoration-color: #00ffff\">self</span>.results)                                               <span style=\"color: #800000; text-decoration-color: #800000\">│</span>\n",
       "<span style=\"color: #800000; text-decoration-color: #800000\">│</span>   <span style=\"color: #7f7f7f; text-decoration-color: #7f7f7f\"> 127 </span><span style=\"color: #7f7f7f; text-decoration-color: #7f7f7f\">│   │   </span><span style=\"color: #0000ff; text-decoration-color: #0000ff\">return</span> res_df                                                                     <span style=\"color: #800000; text-decoration-color: #800000\">│</span>\n",
       "<span style=\"color: #800000; text-decoration-color: #800000\">│</span>   <span style=\"color: #7f7f7f; text-decoration-color: #7f7f7f\"> 128 </span>                                                                                          <span style=\"color: #800000; text-decoration-color: #800000\">│</span>\n",
       "<span style=\"color: #800000; text-decoration-color: #800000\">│</span>                                                                                                  <span style=\"color: #800000; text-decoration-color: #800000\">│</span>\n",
       "<span style=\"color: #800000; text-decoration-color: #800000\">│</span> <span style=\"color: #bfbf7f; text-decoration-color: #bfbf7f\">/Users/bringmannj/Documents/hmda-test-files/2022/python/</span><span style=\"color: #808000; text-decoration-color: #808000; font-weight: bold\">rules_engine.py</span>:<span style=\"color: #0000ff; text-decoration-color: #0000ff\">276</span> in <span style=\"color: #00ff00; text-decoration-color: #00ff00\">s300_2</span>            <span style=\"color: #800000; text-decoration-color: #800000\">│</span>\n",
       "<span style=\"color: #800000; text-decoration-color: #800000\">│</span>                                                                                                  <span style=\"color: #800000; text-decoration-color: #800000\">│</span>\n",
       "<span style=\"color: #800000; text-decoration-color: #800000\">│</span>   <span style=\"color: #7f7f7f; text-decoration-color: #7f7f7f\"> 273 </span><span style=\"color: #bfbf7f; text-decoration-color: #bfbf7f\">│   │   </span><span style=\"color: #808000; text-decoration-color: #808000\">\"\"\"</span>                                                                               <span style=\"color: #800000; text-decoration-color: #800000\">│</span>\n",
       "<span style=\"color: #800000; text-decoration-color: #800000\">│</span>   <span style=\"color: #7f7f7f; text-decoration-color: #7f7f7f\"> 274 </span><span style=\"color: #7f7f7f; text-decoration-color: #7f7f7f\">│   │   </span>field = <span style=\"color: #808000; text-decoration-color: #808000\">\"record_id\"</span>                                                               <span style=\"color: #800000; text-decoration-color: #800000\">│</span>\n",
       "<span style=\"color: #800000; text-decoration-color: #800000\">│</span>   <span style=\"color: #7f7f7f; text-decoration-color: #7f7f7f\"> 275 </span><span style=\"color: #7f7f7f; text-decoration-color: #7f7f7f\">│   │   </span>edit_name = <span style=\"color: #808000; text-decoration-color: #808000\">\"s300_2\"</span>                                                              <span style=\"color: #800000; text-decoration-color: #800000\">│</span>\n",
       "<span style=\"color: #800000; text-decoration-color: #800000\">│</span> <span style=\"color: #800000; text-decoration-color: #800000\">❱ </span> 276 <span style=\"color: #7f7f7f; text-decoration-color: #7f7f7f\">│   │   </span>fail_df = <span style=\"color: #00ffff; text-decoration-color: #00ffff\">self</span>.lar_df[<span style=\"color: #00ffff; text-decoration-color: #00ffff\">self</span>.lar_df.record_id!=<span style=\"color: #808000; text-decoration-color: #808000\">\"2\"</span>]                                 <span style=\"color: #800000; text-decoration-color: #800000\">│</span>\n",
       "<span style=\"color: #800000; text-decoration-color: #800000\">│</span>   <span style=\"color: #7f7f7f; text-decoration-color: #7f7f7f\"> 277 </span><span style=\"color: #7f7f7f; text-decoration-color: #7f7f7f\">│   │   </span><span style=\"color: #00ffff; text-decoration-color: #00ffff\">self</span>.results_wrapper(edit_name=edit_name, field_name=field, fail_df=fail_df, row  <span style=\"color: #800000; text-decoration-color: #800000\">│</span>\n",
       "<span style=\"color: #800000; text-decoration-color: #800000\">│</span>   <span style=\"color: #7f7f7f; text-decoration-color: #7f7f7f\"> 278 </span><span style=\"color: #7f7f7f; text-decoration-color: #7f7f7f\">│   </span>                                                                                      <span style=\"color: #800000; text-decoration-color: #800000\">│</span>\n",
       "<span style=\"color: #800000; text-decoration-color: #800000\">│</span>   <span style=\"color: #7f7f7f; text-decoration-color: #7f7f7f\"> 279 </span><span style=\"color: #7f7f7f; text-decoration-color: #7f7f7f\">│   </span><span style=\"color: #0000ff; text-decoration-color: #0000ff\">def</span> <span style=\"color: #00ff00; text-decoration-color: #00ff00\">s301</span>(<span style=\"color: #00ffff; text-decoration-color: #00ffff\">self</span>):                                                                       <span style=\"color: #800000; text-decoration-color: #800000\">│</span>\n",
       "<span style=\"color: #800000; text-decoration-color: #800000\">╰──────────────────────────────────────────────────────────────────────────────────────────────────╯</span>\n",
       "<span style=\"color: #ff0000; text-decoration-color: #ff0000; font-weight: bold\">AttributeError: </span><span style=\"color: #008000; text-decoration-color: #008000\">'rules_engine'</span> object has no attribute <span style=\"color: #008000; text-decoration-color: #008000\">'lar_df'</span>\n",
       "</pre>\n"
      ],
      "text/plain": [
       "\u001b[31m╭─\u001b[0m\u001b[31m──────────────────────────────\u001b[0m\u001b[31m \u001b[0m\u001b[1;31mTraceback \u001b[0m\u001b[1;2;31m(most recent call last)\u001b[0m\u001b[31m \u001b[0m\u001b[31m───────────────────────────────\u001b[0m\u001b[31m─╮\u001b[0m\n",
       "\u001b[31m│\u001b[0m in \u001b[92m<module>\u001b[0m:\u001b[94m1\u001b[0m                                                                                    \u001b[31m│\u001b[0m\n",
       "\u001b[31m│\u001b[0m                                                                                                  \u001b[31m│\u001b[0m\n",
       "\u001b[31m│\u001b[0m \u001b[31m❱ \u001b[0m1 res_df = rules_engine.create_edit_report()                                                   \u001b[31m│\u001b[0m\n",
       "\u001b[31m│\u001b[0m   \u001b[2m2 \u001b[0mres_df.head()                                                                                \u001b[31m│\u001b[0m\n",
       "\u001b[31m│\u001b[0m   \u001b[2m3 \u001b[0m                                                                                             \u001b[31m│\u001b[0m\n",
       "\u001b[31m│\u001b[0m                                                                                                  \u001b[31m│\u001b[0m\n",
       "\u001b[31m│\u001b[0m \u001b[2;33m/Users/bringmannj/Documents/hmda-test-files/2022/python/\u001b[0m\u001b[1;33mrules_engine.py\u001b[0m:\u001b[94m125\u001b[0m in                   \u001b[31m│\u001b[0m\n",
       "\u001b[31m│\u001b[0m \u001b[92mcreate_edit_report\u001b[0m                                                                               \u001b[31m│\u001b[0m\n",
       "\u001b[31m│\u001b[0m                                                                                                  \u001b[31m│\u001b[0m\n",
       "\u001b[31m│\u001b[0m   \u001b[2m 122 \u001b[0m\u001b[2m│   │   \u001b[0mrules = [rule \u001b[94mfor\u001b[0m rule \u001b[95min\u001b[0m rules \u001b[94mif\u001b[0m rule[:\u001b[94m1\u001b[0m] \u001b[95min\u001b[0m rules_list]                        \u001b[31m│\u001b[0m\n",
       "\u001b[31m│\u001b[0m   \u001b[2m 123 \u001b[0m\u001b[2m│   │   \u001b[0m\u001b[94mfor\u001b[0m rule \u001b[95min\u001b[0m rules:                                                                \u001b[31m│\u001b[0m\n",
       "\u001b[31m│\u001b[0m   \u001b[2m 124 \u001b[0m\u001b[2m│   │   │   \u001b[0m\u001b[94mif\u001b[0m rule[:\u001b[94m1\u001b[0m] \u001b[95min\u001b[0m rules_list \u001b[95mand\u001b[0m rule[\u001b[94m1\u001b[0m:\u001b[94m4\u001b[0m].isdigit()==\u001b[94mTrue\u001b[0m:                      \u001b[31m│\u001b[0m\n",
       "\u001b[31m│\u001b[0m \u001b[31m❱ \u001b[0m 125 \u001b[2m│   │   │   │   \u001b[0m\u001b[96mgetattr\u001b[0m(\u001b[96mself\u001b[0m, rule)()                                                     \u001b[31m│\u001b[0m\n",
       "\u001b[31m│\u001b[0m   \u001b[2m 126 \u001b[0m\u001b[2m│   │   \u001b[0mres_df = pd.DataFrame(\u001b[96mself\u001b[0m.results)                                               \u001b[31m│\u001b[0m\n",
       "\u001b[31m│\u001b[0m   \u001b[2m 127 \u001b[0m\u001b[2m│   │   \u001b[0m\u001b[94mreturn\u001b[0m res_df                                                                     \u001b[31m│\u001b[0m\n",
       "\u001b[31m│\u001b[0m   \u001b[2m 128 \u001b[0m                                                                                          \u001b[31m│\u001b[0m\n",
       "\u001b[31m│\u001b[0m                                                                                                  \u001b[31m│\u001b[0m\n",
       "\u001b[31m│\u001b[0m \u001b[2;33m/Users/bringmannj/Documents/hmda-test-files/2022/python/\u001b[0m\u001b[1;33mrules_engine.py\u001b[0m:\u001b[94m276\u001b[0m in \u001b[92ms300_2\u001b[0m            \u001b[31m│\u001b[0m\n",
       "\u001b[31m│\u001b[0m                                                                                                  \u001b[31m│\u001b[0m\n",
       "\u001b[31m│\u001b[0m   \u001b[2m 273 \u001b[0m\u001b[2;33m│   │   \u001b[0m\u001b[33m\"\"\"\u001b[0m                                                                               \u001b[31m│\u001b[0m\n",
       "\u001b[31m│\u001b[0m   \u001b[2m 274 \u001b[0m\u001b[2m│   │   \u001b[0mfield = \u001b[33m\"\u001b[0m\u001b[33mrecord_id\u001b[0m\u001b[33m\"\u001b[0m                                                               \u001b[31m│\u001b[0m\n",
       "\u001b[31m│\u001b[0m   \u001b[2m 275 \u001b[0m\u001b[2m│   │   \u001b[0medit_name = \u001b[33m\"\u001b[0m\u001b[33ms300_2\u001b[0m\u001b[33m\"\u001b[0m                                                              \u001b[31m│\u001b[0m\n",
       "\u001b[31m│\u001b[0m \u001b[31m❱ \u001b[0m 276 \u001b[2m│   │   \u001b[0mfail_df = \u001b[96mself\u001b[0m.lar_df[\u001b[96mself\u001b[0m.lar_df.record_id!=\u001b[33m\"\u001b[0m\u001b[33m2\u001b[0m\u001b[33m\"\u001b[0m]                                 \u001b[31m│\u001b[0m\n",
       "\u001b[31m│\u001b[0m   \u001b[2m 277 \u001b[0m\u001b[2m│   │   \u001b[0m\u001b[96mself\u001b[0m.results_wrapper(edit_name=edit_name, field_name=field, fail_df=fail_df, row  \u001b[31m│\u001b[0m\n",
       "\u001b[31m│\u001b[0m   \u001b[2m 278 \u001b[0m\u001b[2m│   \u001b[0m                                                                                      \u001b[31m│\u001b[0m\n",
       "\u001b[31m│\u001b[0m   \u001b[2m 279 \u001b[0m\u001b[2m│   \u001b[0m\u001b[94mdef\u001b[0m \u001b[92ms301\u001b[0m(\u001b[96mself\u001b[0m):                                                                       \u001b[31m│\u001b[0m\n",
       "\u001b[31m╰──────────────────────────────────────────────────────────────────────────────────────────────────╯\u001b[0m\n",
       "\u001b[1;91mAttributeError: \u001b[0m\u001b[32m'rules_engine'\u001b[0m object has no attribute \u001b[32m'lar_df'\u001b[0m\n"
      ]
     },
     "metadata": {},
     "output_type": "display_data"
    }
   ],
   "source": [
    "res_df = rules_engine.create_edit_report()\n",
    "res_df.head()"
   ]
  },
  {
   "cell_type": "code",
   "execution_count": 7,
   "metadata": {},
   "outputs": [
    {
     "data": {
      "text/html": [
       "<div>\n",
       "<style scoped>\n",
       "    .dataframe tbody tr th:only-of-type {\n",
       "        vertical-align: middle;\n",
       "    }\n",
       "\n",
       "    .dataframe tbody tr th {\n",
       "        vertical-align: top;\n",
       "    }\n",
       "\n",
       "    .dataframe thead th {\n",
       "        text-align: right;\n",
       "    }\n",
       "</style>\n",
       "<table border=\"1\" class=\"dataframe\">\n",
       "  <thead>\n",
       "    <tr style=\"text-align: right;\">\n",
       "      <th></th>\n",
       "      <th>edit_name</th>\n",
       "      <th>row_type</th>\n",
       "      <th>field</th>\n",
       "      <th>fail_count</th>\n",
       "      <th>failed_rows</th>\n",
       "    </tr>\n",
       "  </thead>\n",
       "  <tbody>\n",
       "    <tr>\n",
       "      <td>209</td>\n",
       "      <td>v699</td>\n",
       "      <td>LAR</td>\n",
       "      <td>AUS and Results</td>\n",
       "      <td>0</td>\n",
       "      <td>[]</td>\n",
       "    </tr>\n",
       "  </tbody>\n",
       "</table>\n",
       "</div>"
      ],
      "text/plain": [
       "    edit_name row_type            field  fail_count failed_rows\n",
       "209      v699      LAR  AUS and Results           0          []"
      ]
     },
     "execution_count": 7,
     "metadata": {},
     "output_type": "execute_result"
    }
   ],
   "source": [
    "res_df[res_df.edit_name==\"v699\"]"
   ]
  },
  {
   "cell_type": "code",
   "execution_count": 9,
   "metadata": {},
   "outputs": [
    {
     "name": "stdout",
     "output_type": "stream",
     "text": [
      "Index(['record_id', 'lei', 'uli', 'app_date', 'loan_type', 'loan_purpose',\n",
      "       'preapproval', 'const_method', 'occ_type', 'loan_amount',\n",
      "       ...\n",
      "       'aus_code_5', 'aus_result_1', 'aus_result_2', 'aus_result_3',\n",
      "       'aus_result_4', 'aus_result_5', 'aus_code_16', 'reverse_mortgage',\n",
      "       'open_end_credit', 'business_purpose'],\n",
      "      dtype='object', length=110)\n"
     ]
    }
   ],
   "source": [
    "print(rules_engine.lar_df.columns)"
   ]
  },
  {
   "cell_type": "code",
   "execution_count": 17,
   "metadata": {},
   "outputs": [],
   "source": [
    "aus_results = (\"1\",\"2\",\"3\", \"4\", \"5\", \"6\", \"7\", \"8\", \"9\", \"10\", \n",
    "\t\t\t\"11\", \"12\",\"13\", \"14\",\"15\", \"16\")\n",
    "for index, row in rules_engine.lar_df.iterrows():\n",
    "    if row[\"app_sex\"] == \"6\":\n",
    "        row[\"app_sex_basis\"] = \"2\"\n",
    "    if row[\"co_app_sex\"] == \"6\":\n",
    "        row[\"co_app_sex_basis\"] = \"2\"\n",
    "    if row[\"aus_1\"] == \"5\":\n",
    "        if row[\"aus_result_1\"] == \"17\":\n",
    "            row[\"aus_result_1\"] == random.choice(aus_results)\n",
    "    if row[\"aus_2\"] == \"5\":\n",
    "        if row[\"aus_result_2\"] == \"17\":\n",
    "            row[\"aus_result_2\"] == random.choice(aus_results)\n",
    "    if row[\"aus_3\"] == \"5\":\n",
    "        if row[\"aus_result_3\"] == \"17\":\n",
    "            row[\"aus_result_3\"] == random.choice(aus_results)\n",
    "    if row[\"aus_4\"] == \"5\":\n",
    "        if row[\"aus_result_4\"] == \"17\":\n",
    "            row[\"aus_result_4\"] == random.choice(aus_results)\n",
    "    if row[\"aus_5\"] == \"5\":\n",
    "        if row[\"aus_result_5\"] == \"17\":\n",
    "            row[\"aus_result_5\"] == random.choice(aus_results)\n",
    "                "
   ]
  },
  {
   "cell_type": "code",
   "execution_count": 18,
   "metadata": {},
   "outputs": [],
   "source": [
    "utils.write_file(path=\"../edits_files/Bank 0/clean_files/\", \n",
    "                 name=\"new_bank_0_1m_rows.txt\", \n",
    "                 ts_input=rules_engine.ts_df, lar_input=rules_engine.lar_df)"
   ]
  },
  {
   "cell_type": "code",
   "execution_count": 6,
   "metadata": {},
   "outputs": [
    {
     "data": {
      "text/html": [
       "<pre style=\"white-space:pre;overflow-x:auto;line-height:normal;font-family:Menlo,'DejaVu Sans Mono',consolas,'Courier New',monospace\"><span style=\"color: #800000; text-decoration-color: #800000\">╭─────────────────────────────── </span><span style=\"color: #800000; text-decoration-color: #800000; font-weight: bold\">Traceback </span><span style=\"color: #bf7f7f; text-decoration-color: #bf7f7f; font-weight: bold\">(most recent call last)</span><span style=\"color: #800000; text-decoration-color: #800000\"> ────────────────────────────────╮</span>\n",
       "<span style=\"color: #800000; text-decoration-color: #800000\">│</span> in <span style=\"color: #00ff00; text-decoration-color: #00ff00\">&lt;module&gt;</span>:<span style=\"color: #0000ff; text-decoration-color: #0000ff\">1</span>                                                                                    <span style=\"color: #800000; text-decoration-color: #800000\">│</span>\n",
       "<span style=\"color: #800000; text-decoration-color: #800000\">│</span>                                                                                                  <span style=\"color: #800000; text-decoration-color: #800000\">│</span>\n",
       "<span style=\"color: #800000; text-decoration-color: #800000\">│</span> <span style=\"color: #800000; text-decoration-color: #800000\">❱ </span>1 <span style=\"color: #0000ff; text-decoration-color: #0000ff\">for</span> col <span style=\"color: #ff00ff; text-decoration-color: #ff00ff\">in</span> rules_engine.lar_df.columns:                                                      <span style=\"color: #800000; text-decoration-color: #800000\">│</span>\n",
       "<span style=\"color: #800000; text-decoration-color: #800000\">│</span>   <span style=\"color: #7f7f7f; text-decoration-color: #7f7f7f\">2 </span><span style=\"color: #7f7f7f; text-decoration-color: #7f7f7f\">│   </span><span style=\"color: #00ffff; text-decoration-color: #00ffff\">print</span>(col)                                                                               <span style=\"color: #800000; text-decoration-color: #800000\">│</span>\n",
       "<span style=\"color: #800000; text-decoration-color: #800000\">│</span>   <span style=\"color: #7f7f7f; text-decoration-color: #7f7f7f\">3 </span><span style=\"color: #00ffff; text-decoration-color: #00ffff\">print</span>(<span style=\"color: #00ffff; text-decoration-color: #00ffff\">len</span>(rules_engine.lar_df.columns))                                                      <span style=\"color: #800000; text-decoration-color: #800000\">│</span>\n",
       "<span style=\"color: #800000; text-decoration-color: #800000\">│</span>   <span style=\"color: #7f7f7f; text-decoration-color: #7f7f7f\">4 </span>                                                                                             <span style=\"color: #800000; text-decoration-color: #800000\">│</span>\n",
       "<span style=\"color: #800000; text-decoration-color: #800000\">╰──────────────────────────────────────────────────────────────────────────────────────────────────╯</span>\n",
       "<span style=\"color: #ff0000; text-decoration-color: #ff0000; font-weight: bold\">AttributeError: </span><span style=\"color: #008000; text-decoration-color: #008000\">'rules_engine'</span> object has no attribute <span style=\"color: #008000; text-decoration-color: #008000\">'lar_df'</span>\n",
       "</pre>\n"
      ],
      "text/plain": [
       "\u001b[31m╭─\u001b[0m\u001b[31m──────────────────────────────\u001b[0m\u001b[31m \u001b[0m\u001b[1;31mTraceback \u001b[0m\u001b[1;2;31m(most recent call last)\u001b[0m\u001b[31m \u001b[0m\u001b[31m───────────────────────────────\u001b[0m\u001b[31m─╮\u001b[0m\n",
       "\u001b[31m│\u001b[0m in \u001b[92m<module>\u001b[0m:\u001b[94m1\u001b[0m                                                                                    \u001b[31m│\u001b[0m\n",
       "\u001b[31m│\u001b[0m                                                                                                  \u001b[31m│\u001b[0m\n",
       "\u001b[31m│\u001b[0m \u001b[31m❱ \u001b[0m1 \u001b[94mfor\u001b[0m col \u001b[95min\u001b[0m rules_engine.lar_df.columns:                                                      \u001b[31m│\u001b[0m\n",
       "\u001b[31m│\u001b[0m   \u001b[2m2 \u001b[0m\u001b[2m│   \u001b[0m\u001b[96mprint\u001b[0m(col)                                                                               \u001b[31m│\u001b[0m\n",
       "\u001b[31m│\u001b[0m   \u001b[2m3 \u001b[0m\u001b[96mprint\u001b[0m(\u001b[96mlen\u001b[0m(rules_engine.lar_df.columns))                                                      \u001b[31m│\u001b[0m\n",
       "\u001b[31m│\u001b[0m   \u001b[2m4 \u001b[0m                                                                                             \u001b[31m│\u001b[0m\n",
       "\u001b[31m╰──────────────────────────────────────────────────────────────────────────────────────────────────╯\u001b[0m\n",
       "\u001b[1;91mAttributeError: \u001b[0m\u001b[32m'rules_engine'\u001b[0m object has no attribute \u001b[32m'lar_df'\u001b[0m\n"
      ]
     },
     "metadata": {},
     "output_type": "display_data"
    }
   ],
   "source": [
    "for col in rules_engine.lar_df.columns:\n",
    "    print(col)\n",
    "print(len(rules_engine.lar_df.columns))"
   ]
  },
  {
   "cell_type": "code",
   "execution_count": 3,
   "metadata": {},
   "outputs": [
    {
     "name": "stdout",
     "output_type": "stream",
     "text": [
      "288\n",
      "297\n"
     ]
    }
   ],
   "source": [
    "print(len(rules_engine.svq_edit_functions))\n",
    "print(len(test_file_gen.test_file_funcs))"
   ]
  },
  {
   "cell_type": "code",
   "execution_count": null,
   "metadata": {},
   "outputs": [],
   "source": [
    "clean_file_rep = pd.read_csv(\"../edit_reports/Bank1_clean_file_report.txt\", sep=\"|\")\n",
    "print(len(clean_file_rep.edit_name), \"edits checked\")\n",
    "clean_file_rep.head()"
   ]
  },
  {
   "cell_type": "code",
   "execution_count": null,
   "metadata": {},
   "outputs": [],
   "source": [
    "edit_file_rep = pd.read_csv(\"../edit_reports/Bank1_edit_file_report.txt\", sep=\"|\")\n",
    "print(len(edit_file_rep.edit_name), \"test files created\")\n",
    "edit_file_rep.head()"
   ]
  },
  {
   "cell_type": "code",
   "execution_count": null,
   "metadata": {},
   "outputs": [],
   "source": [
    "clean_edit_list = list(clean_file_rep.edit_name.unique())\n",
    "fail_edit_list = list(edit_file_rep.edit_name.unique())\n",
    "rules_eng_list = rules_engine.svq_edit_functions\n",
    "\n",
    "\n",
    "for rule in rules_eng_list:\n",
    "    if rule not in fail_edit_list:\n",
    "        print(rule, \"not in report\")\n",
    "    "
   ]
  },
  {
   "cell_type": "code",
   "execution_count": null,
   "metadata": {},
   "outputs": [],
   "source": [
    "for rule in rules_eng_list:\n",
    "    if rule not in clean_edit_list:\n",
    "        print(rule, \"not in report\")"
   ]
  },
  {
   "cell_type": "code",
   "execution_count": null,
   "metadata": {},
   "outputs": [],
   "source": [
    "for rule in test_file_gen.test_file_funcs:\n",
    "    if rule not in rules_eng_list:\n",
    "        print(rule, \"in test file maker but not rules engine\")"
   ]
  },
  {
   "cell_type": "code",
   "execution_count": null,
   "metadata": {},
   "outputs": [],
   "source": [
    "#how many functions in test file creator?\n",
    "\n",
    "#do these map to rules engine? \n",
    "#to edit files\n",
    "\n",
    "\n",
    "#"
   ]
  },
  {
   "cell_type": "code",
   "execution_count": null,
   "metadata": {},
   "outputs": [],
   "source": [
    "#load 1 million row file\n",
    "#check for quality edit fails, need 300k\n",
    "len(test_df)"
   ]
  },
  {
   "cell_type": "code",
   "execution_count": null,
   "metadata": {},
   "outputs": [],
   "source": [
    "rules_engine.split_ts_row(data_file=\"../edits_files/Bank 0/clean_files/Bank 0_clean_1000000_rows.txt\", load=True)"
   ]
  },
  {
   "cell_type": "code",
   "execution_count": null,
   "metadata": {},
   "outputs": [],
   "source": [
    "test_fails = rules_engine.create_edit_report(rules_list=[\"s\", \"v\", \"q\"])\n"
   ]
  },
  {
   "cell_type": "code",
   "execution_count": null,
   "metadata": {},
   "outputs": [],
   "source": [
    "len(test_fails[test_fails.fail_count>0])\n",
    "test_fails[test_fails.fail_count>0]\n"
   ]
  },
  {
   "cell_type": "code",
   "execution_count": null,
   "metadata": {},
   "outputs": [],
   "source": [
    "test_fails[test_fails.edit_name.apply(lambda x: x[:1]==\"q\")]"
   ]
  },
  {
   "cell_type": "code",
   "execution_count": null,
   "metadata": {},
   "outputs": [],
   "source": [
    "test_fails[test_fails.edit_name.apply(lambda x: x[:1]==\"m\")]"
   ]
  },
  {
   "cell_type": "code",
   "execution_count": null,
   "metadata": {},
   "outputs": [],
   "source": [
    "#load 1m file edit report\n",
    "rep_df = pd.read_csv(\"../edit_reports/Bank1_clean_file_report.txt\", sep=\"|\")\n",
    "rep_df.head()"
   ]
  },
  {
   "cell_type": "code",
   "execution_count": null,
   "metadata": {},
   "outputs": [],
   "source": [
    "rep_df[rep_df.fail_count>0]"
   ]
  },
  {
   "cell_type": "code",
   "execution_count": null,
   "metadata": {},
   "outputs": [],
   "source": [
    "\"Activity Year|Legal Entity Identifier (LEI)|Agency Code|Institution Type|2017 Institution ID|Tax ID|RSSD|Email Domain|Respondent Name|Respondent State|Respondent City|Parent ID RSSD|Parent Name|Assets|Other Lender Code|Top Holder ID RSSD|Top Holder Name|HMDA Filer Flag\".split(\"|\")"
   ]
  },
  {
   "cell_type": "code",
   "execution_count": null,
   "metadata": {},
   "outputs": [],
   "source": [
    "\"lei|activityyear|agency|institutiontype|id2017|taxid|rssd|emaildomain|respondentname|respondentstate|respondentcity|parentidrssd|parentname|assets|otherlendercode|topholderidrssd|topholdername|hmdafiler\".split(\"|\")"
   ]
  },
  {
   "cell_type": "code",
   "execution_count": null,
   "metadata": {},
   "outputs": [],
   "source": []
  }
 ],
 "metadata": {
  "kernelspec": {
   "display_name": "Kedro (spaceflights)",
   "language": "python",
   "name": "kedro_spaceflights"
  },
  "language_info": {
   "codemirror_mode": {
    "name": "ipython",
    "version": 3
   },
   "file_extension": ".py",
   "mimetype": "text/x-python",
   "name": "python",
   "nbconvert_exporter": "python",
   "pygments_lexer": "ipython3",
   "version": "3.10.13"
  }
 },
 "nbformat": 4,
 "nbformat_minor": 2
}
